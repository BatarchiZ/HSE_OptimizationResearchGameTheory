{
 "cells": [
  {
   "cell_type": "code",
   "execution_count": 26,
   "metadata": {},
   "outputs": [],
   "source": [
    "# import networkx as nx\n",
    "# import numpy as np"
   ]
  },
  {
   "cell_type": "code",
   "execution_count": 27,
   "metadata": {},
   "outputs": [],
   "source": [
    "# child_prefs = {\n",
    "#     'Rif': {1, 3, 4, 5},\n",
    "#     'Mai': {1},\n",
    "#     'Ben': {1, 2},\n",
    "#     'Kim': {1, 2, 5},\n",
    "#     'Ken': {2, 5}\n",
    "# }\n",
    "\n",
    "# G = nx.DiGraph()\n",
    "# for child, prefs in child_prefs.items():\n",
    "#     G.add_edge('Source', child, capacity = 1)\n",
    "#     for chore in prefs:\n",
    "#         G.add_edge(child, chore, capacity = 1)\n",
    "# for chore in range(5):\n",
    "#     G.add_edge(chore + 1, 'Sink', capacity = 1)\n",
    "\n",
    "# print(G.edges)"
   ]
  },
  {
   "cell_type": "code",
   "execution_count": 29,
   "metadata": {},
   "outputs": [],
   "source": [
    "# flow_value, flow_dict = nx.maximum_flow(G, _s = 'Source', _t = 'Sink', capacity = 'capacity')"
   ]
  },
  {
   "cell_type": "code",
   "execution_count": 30,
   "metadata": {},
   "outputs": [],
   "source": [
    "# print('Total chores assigned: %d' % flow_value)\n",
    "# for child, prefs in child_prefs.items():\n",
    "#     for chore in prefs:\n",
    "#         if flow_dict[child][chore] > 0:\n",
    "#             print('Assign %s to chore %d.' % (child, chore))"
   ]
  },
  {
   "cell_type": "code",
   "execution_count": 6,
   "metadata": {},
   "outputs": [],
   "source": [
    "import networkx as nx\n",
    "import numpy as np"
   ]
  },
  {
   "cell_type": "code",
   "execution_count": 22,
   "metadata": {},
   "outputs": [],
   "source": [
    "network = {\n",
    "    'D': {1, 2, 4, 5, 6},\n",
    "    '1': {4},\n",
    "    '2': {3, 5, 6},\n",
    "    '3': {4, 7},\n",
    "    '4': {6, 9},\n",
    "    '5': {8, 11},\n",
    "    '6': {5, 7, 10},\n",
    "    '7': {8, 9, 10},\n",
    "    '8': {10, 11, 'Y'},\n",
    "    '9': {10, 12, 'Y'},\n",
    "    '10': {11, 13},\n",
    "    '11': {13, 14, 'Y'},\n",
    "    '12': {'Y'},\n",
    "    '13': {12, 14, 'Y'},\n",
    "    '14': {'Y'},\n",
    "    'Y': {}\n",
    "}\n",
    "G = nx.DiGraph()\n",
    "for u, vertices in network.items():\n",
    "    for v in vertices:\n",
    "        G.add_edge(str(u), str(v), capacity = 1)"
   ]
  },
  {
   "cell_type": "code",
   "execution_count": 23,
   "metadata": {},
   "outputs": [
    {
     "data": {
      "text/plain": [
       "(5,\n",
       " {'D': {'1': 1, '2': 1, '4': 1, '5': 1, '6': 1},\n",
       "  '1': {'4': 1},\n",
       "  '2': {'3': 1, '5': 0, '6': 0},\n",
       "  '4': {'9': 1, '6': 1},\n",
       "  '5': {'8': 1, '11': 1},\n",
       "  '6': {'10': 1, '5': 1, '7': 0},\n",
       "  '3': {'4': 0, '7': 1},\n",
       "  '7': {'8': 1, '9': 0, '10': 0},\n",
       "  '9': {'10': 0, 'Y': 1, '12': 0},\n",
       "  '8': {'10': 0, '11': 1, 'Y': 1},\n",
       "  '11': {'Y': 1, '13': 1, '14': 1},\n",
       "  '10': {'11': 1, '13': 0},\n",
       "  'Y': {},\n",
       "  '12': {'Y': 0},\n",
       "  '13': {'Y': 1, '12': 0, '14': 0},\n",
       "  '14': {'Y': 1}})"
      ]
     },
     "execution_count": 23,
     "metadata": {},
     "output_type": "execute_result"
    }
   ],
   "source": [
    "flow_value, flow_dict = nx.maximum_flow(G, _s = 'D', _t = 'Y', capacity = 'capacity')\n",
    "flow_value, flow_dict"
   ]
  },
  {
   "cell_type": "code",
   "execution_count": 25,
   "metadata": {},
   "outputs": [
    {
     "name": "stdout",
     "output_type": "stream",
     "text": [
      "37\n"
     ]
    }
   ],
   "source": [
    "print(len(G.edges))"
   ]
  }
 ],
 "metadata": {
  "kernelspec": {
   "display_name": "Python 3 (ipykernel)",
   "language": "python",
   "name": "python3"
  },
  "language_info": {
   "codemirror_mode": {
    "name": "ipython",
    "version": 3
   },
   "file_extension": ".py",
   "mimetype": "text/x-python",
   "name": "python",
   "nbconvert_exporter": "python",
   "pygments_lexer": "ipython3",
   "version": "3.10.13"
  }
 },
 "nbformat": 4,
 "nbformat_minor": 4
}
